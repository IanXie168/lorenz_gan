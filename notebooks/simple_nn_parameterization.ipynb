{
 "cells": [
  {
   "cell_type": "code",
   "execution_count": 1,
   "metadata": {},
   "outputs": [
    {
     "name": "stderr",
     "output_type": "stream",
     "text": [
      "Using TensorFlow backend.\n"
     ]
    }
   ],
   "source": [
    "%matplotlib inline\n",
    "import numpy as np\n",
    "import pandas as pd\n",
    "import matplotlib.pyplot as plt\n",
    "from matplotlib.colors import LogNorm\n",
    "from lorenz_gan.submodels import SubModelANN, SubModelPoly, AR1RandomUpdater\n",
    "from keras.models import Model, load_model\n",
    "import keras.backend as K\n",
    "from keras.layers import Dense, Activation, Input, BatchNormalization, Dropout, concatenate, GaussianNoise, LeakyReLU\n",
    "from keras.optimizers import Adam\n",
    "from keras.regularizers import l2\n",
    "from lorenz_gan.gan import Interpolate1D, unnormalize_data, normalize_data, ConcreteDropout, AlphaDropout\n",
    "from scipy.stats import norm\n",
    "from sklearn.linear_model import LinearRegression\n",
    "import xarray as xr"
   ]
  },
  {
   "cell_type": "code",
   "execution_count": 15,
   "metadata": {
    "collapsed": true
   },
   "outputs": [],
   "source": [
    "trends = pd.read_csv(\"multiTimeline.csv\", skiprows=1, index_col=\"Month\", parse_dates=[\"Month\"])"
   ]
  },
  {
   "cell_type": "code",
   "execution_count": 29,
   "metadata": {},
   "outputs": [
    {
     "data": {
      "image/png": "[encoded data removed]",
      "text/plain": [
       "<matplotlib.figure.Figure at 0x1157580f0>"
      ]
     },
     "metadata": {},
     "output_type": "display_data"
    }
   ],
   "source": [
    "trends.plot(figsize=(6, 4), color=[\"red\", \"blue\"])\n",
    "plt.xlabel(\"Time\", fontsize=14)\n",
    "plt.ylabel(\"Interest\", fontsize=14)\n",
    "plt.title(\"Google Trends for ML and DL\", fontsize=16)\n",
    "plt.savefig(\"ml_interest_trends.png\", dpi=200, bbox_inches=\"tight\")"
   ]
  },
  {
   "cell_type": "code",
   "execution_count": 4,
   "metadata": {
    "collapsed": true
   },
   "outputs": [],
   "source": [
    "lorenz_data = pd.read_csv(\"../exp_u/lorenz_combined_output.csv\")"
   ]
  },
  {
   "cell_type": "code",
   "execution_count": 57,
   "metadata": {
    "collapsed": true
   },
   "outputs": [],
   "source": [
    "y_cols = lorenz_data.columns[lorenz_data.columns.str.contains(\"Y\")]\n"
   ]
  },
  {
   "cell_type": "code",
   "execution_count": 408,
   "metadata": {
    "collapsed": true
   },
   "outputs": [],
   "source": [
    "class SubModelANN(object):\n",
    "    def __init__(self, inputs=1, hidden_layers=2, hidden_neurons=8,\n",
    "                 activation=\"selu\", l2_weight=0.01, learning_rate=0.001, loss=\"mse\",\n",
    "                 noise_sd=1, beta_1=0.9, model_path=None, dropout_alpha=0.5,\n",
    "                 num_epochs=10, batch_size=1024, verbose=0, model_config=0):\n",
    "        self.hidden_layers = hidden_layers\n",
    "        self.activation = activation\n",
    "        self.l2_weight = l2_weight\n",
    "        self.learning_rate = learning_rate\n",
    "        self.loss = loss\n",
    "        self.beta_1 = beta_1\n",
    "        self.num_epochs = num_epochs\n",
    "        self.batch_size = batch_size\n",
    "        self.verbose = verbose\n",
    "        self.model_config = model_config\n",
    "\n",
    "        if model_path is None:\n",
    "            nn_input = Input((inputs, ))\n",
    "            nn_model = nn_input\n",
    "            for h in range(hidden_layers):\n",
    "                nn_model = Dense(hidden_neurons, kernel_regularizer=l2(l2_weight))(nn_model)\n",
    "                if activation == \"leaky\":\n",
    "                    nn_model = LeakyReLU(0.1)(nn_model)\n",
    "                else:\n",
    "                    nn_model = Activation(activation)(nn_model)\n",
    "                nn_model = Dropout(dropout_alpha)(nn_model)\n",
    "                nn_model = GaussianNoise(noise_sd)(nn_model)\n",
    "            nn_model = Dense(1)(nn_model)\n",
    "            self.model = Model(nn_input, nn_model)\n",
    "            self.model.compile(Adam(lr=learning_rate, beta_1=beta_1), loss=loss)\n",
    "            self.x_scaling_file = None\n",
    "            self.x_scaling_values = None\n",
    "        elif type(model_path) == str:\n",
    "            self.model = load_model(model_path)\n",
    "            model_path_start = join(model_path.split(\"/\")[:-1])\n",
    "            self.x_scaling_file = join(model_path_start, \"gan_X_scaling_values_{0}.csv\".format(self.model_config))\n",
    "            self.x_scaling_values = pd.read_csv(self.x_scaling_file, index_col=\"Channel\")\n",
    "\n",
    "    def fit(self, cond_x, u):\n",
    "        norm_x, self.x_scaling_values = normalize_data(np.expand_dims(cond_x, 1),\n",
    "                                                       scaling_values=self.x_scaling_values)\n",
    "        self.model.fit(norm_x[:, :, 0], u, batch_size=self.batch_size, epochs=self.num_epochs, verbose=self.verbose)\n",
    "\n",
    "    def predict(self, cond_x):\n",
    "        norm_x = normalize_data(np.expand_dims(cond_x, axis=2), scaling_values=self.x_scaling_values)[0][:, :, 0]\n",
    "        sample_predict = K.function([self.model.input, K.learning_phase()], [self.model.output])\n",
    "        sampled_u = sample_predict([norm_x, 1])[0]\n",
    "        return sampled_u.ravel()"
   ]
  },
  {
   "cell_type": "code",
   "execution_count": 146,
   "metadata": {
    "collapsed": true
   },
   "outputs": [],
   "source": [
    "u_vals = lorenz_data[y_cols].sum(axis=1)"
   ]
  },
  {
   "cell_type": "code",
   "execution_count": 409,
   "metadata": {},
   "outputs": [
    {
     "name": "stdout",
     "output_type": "stream",
     "text": [
      "Epoch 1/10\n",
      "319680/319680 [==============================] - 3s - loss: 38.1605     \n",
      "Epoch 2/10\n",
      "319680/319680 [==============================] - 2s - loss: 22.5936     \n",
      "Epoch 3/10\n",
      "319680/319680 [==============================] - 2s - loss: 18.1208     \n",
      "Epoch 4/10\n",
      "319680/319680 [==============================] - 3s - loss: 16.1677     \n",
      "Epoch 5/10\n",
      "319680/319680 [==============================] - 2s - loss: 14.9780     \n",
      "Epoch 6/10\n",
      "319680/319680 [==============================] - 3s - loss: 14.1466     \n",
      "Epoch 7/10\n",
      "319680/319680 [==============================] - 3s - loss: 13.6237     \n",
      "Epoch 8/10\n",
      "319680/319680 [==============================] - 3s - loss: 13.2509     \n",
      "Epoch 9/10\n",
      "319680/319680 [==============================] - 3s - loss: 12.9984     \n",
      "Epoch 10/10\n",
      "319680/319680 [==============================] - 3s - loss: 12.8064     \n",
      "3.4025975265713773\n"
     ]
    }
   ],
   "source": [
    "ann = SubModelANN(inputs=1, hidden_layers=2, hidden_neurons=12, batch_size=512, \n",
    "                  activation=\"leaky\", verbose=1, noise_sd=1.99, dropout_alpha=0.4)\n",
    "ann.fit(lorenz_data[[\"X_t\"]].values, u_vals)\n",
    "ann_preds = ann.predict(lorenz_data[[\"X_t\"]].values)\n",
    "ann_res = ann_preds - u_vals\n",
    "print(ann_res.std())"
   ]
  },
  {
   "cell_type": "code",
   "execution_count": 410,
   "metadata": {},
   "outputs": [
    {
     "name": "stderr",
     "output_type": "stream",
     "text": [
      "/Users/dgagne/anaconda3/lib/python3.5/site-packages/matplotlib/axes/_axes.py:6497: RuntimeWarning: invalid value encountered in greater\n",
      "  h[h > cmax] = None\n"
     ]
    },
    {
     "data": {
      "text/plain": [
       "<matplotlib.text.Text at 0x17c9cb390>"
      ]
     },
     "execution_count": 410,
     "metadata": {},
     "output_type": "execute_result"
    },
    {
     "name": "stderr",
     "output_type": "stream",
     "text": [
      "/Users/dgagne/anaconda3/lib/python3.5/site-packages/matplotlib/colors.py:929: RuntimeWarning: invalid value encountered in less_equal\n",
      "  mask |= resdat <= 0\n"
     ]
    },
    {
     "data": {
      "image/png": "[encoded data removed]",
      "text/plain": [
       "<matplotlib.figure.Figure at 0x17caaefd0>"
      ]
     },
     "metadata": {},
     "output_type": "display_data"
    }
   ],
   "source": [
    "epoch = 10\n",
    "fig, axes = plt.subplots(1, 3, figsize=(15, 5))\n",
    "_ = axes[0].hist2d(lorenz_data[\"X_t\"], lorenz_data[y_cols].sum(axis=1), bins=[np.linspace(-30, 30, 30), \n",
    "                                                                                   np.linspace(-30, 30, 30)], \n",
    "                   cmin=1, cmax=50000, norm=LogNorm(1, 50000))\n",
    "axes[0].set_title(\"Lorenz '96 Truth\", fontsize=16)\n",
    "_ = axes[1].hist2d(lorenz_data[\"X_t\"], ann_preds, bins=[np.linspace(-30, 30, 30), \n",
    "                                                                           np.linspace(-30, 30, 30)], \n",
    "                   cmin=1, cmax=50000, norm=LogNorm(1, 50000))\n",
    "_ = axes[2].hist2d(lorenz_data[\"X_t\"], poly_preds, bins=[np.linspace(-30, 30, 30), \n",
    "                                                                           np.linspace(-30, 30, 30)], \n",
    "                   cmin=1, cmax=50000, norm=LogNorm(1, 50000))\n",
    "axes[1].set_title(\"Lorenz '96 ANN\".format(epoch), fontsize=16)\n",
    "axes[2].set_title(\"Lorenz '96 Polynomial\".format(epoch), fontsize=16)\n",
    "\n",
    "for a in range(3):\n",
    "    axes[a].set_xlabel(\"$X_t$\", fontsize=14)\n",
    "    axes[a].grid()\n",
    "axes[0].set_ylabel(\"Subgrid Forcing ($U_{t+1}$)\", fontsize=14)\n",
    "#plt.savefig(\"../exp_u/gan_x_u_hist_epoch_{0}.png\".format(epoch), dpi=200, bbox_inches=\"tight\")"
   ]
  },
  {
   "cell_type": "code",
   "execution_count": 396,
   "metadata": {
    "collapsed": true
   },
   "outputs": [],
   "source": [
    "poly_det = SubModelPoly(num_terms=3, noise_type=\"det\")\n",
    "poly_det.fit(lorenz_data[\"X_t\"].values, lorenz_data[y_cols].sum(axis=1))\n",
    "poly_det_preds = poly_det.predict(lorenz_data[[\"X_t\"]], np.zeros(lorenz_data[\"X_t\"].shape))"
   ]
  },
  {
   "cell_type": "code",
   "execution_count": 411,
   "metadata": {},
   "outputs": [
    {
     "name": "stderr",
     "output_type": "stream",
     "text": [
      "/Users/dgagne/anaconda3/lib/python3.5/site-packages/matplotlib/axes/_axes.py:6497: RuntimeWarning: invalid value encountered in greater\n",
      "  h[h > cmax] = None\n"
     ]
    },
    {
     "data": {
      "text/plain": [
       "<matplotlib.text.Text at 0x17ca13be0>"
      ]
     },
     "execution_count": 411,
     "metadata": {},
     "output_type": "execute_result"
    },
    {
     "name": "stderr",
     "output_type": "stream",
     "text": [
      "/Users/dgagne/anaconda3/lib/python3.5/site-packages/matplotlib/colors.py:929: RuntimeWarning: invalid value encountered in less_equal\n",
      "  mask |= resdat <= 0\n"
     ]
    },
    {
     "data": {
      "image/png": "[encoded data removed]",
      "text/plain": [
       "<matplotlib.figure.Figure at 0x17ca1d518>"
      ]
     },
     "metadata": {},
     "output_type": "display_data"
    }
   ],
   "source": [
    "epoch = 10\n",
    "fig, axes = plt.subplots(1, 3, figsize=(15, 5))\n",
    "_ = axes[0].hist2d(lorenz_data[\"X_t\"], lorenz_data[y_cols].sum(axis=1) - poly_det_preds, bins=[np.linspace(-30, 30, 30), \n",
    "                                                                                   np.linspace(-30, 30, 30)], \n",
    "                   cmin=1, cmax=50000, norm=LogNorm(1, 50000))\n",
    "axes[0].set_title(\"Lorenz '96 Truth\", fontsize=16)\n",
    "_ = axes[1].hist2d(lorenz_data[\"X_t\"], ann_preds - poly_det_preds, bins=[np.linspace(-30, 30, 30), \n",
    "                                                                           np.linspace(-30, 30, 30)], \n",
    "                   cmin=1, cmax=50000, norm=LogNorm(1, 50000))\n",
    "_ = axes[2].hist2d(lorenz_data[\"X_t\"], poly_preds - poly_det_preds, bins=[np.linspace(-30, 30, 30), \n",
    "                                                                           np.linspace(-30, 30, 30)], \n",
    "                   cmin=1, cmax=50000, norm=LogNorm(1, 50000))\n",
    "axes[1].set_title(\"Lorenz '96 ANN\".format(epoch), fontsize=16)\n",
    "axes[2].set_title(\"Lorenz '96 Polynomial\".format(epoch), fontsize=16)\n",
    "\n",
    "for a in range(3):\n",
    "    axes[a].set_xlabel(\"$X_t$\", fontsize=14)\n",
    "    axes[a].grid()\n",
    "axes[0].set_ylabel(\"Subgrid Forcing ($U_{t+1}$)\", fontsize=14)"
   ]
  },
  {
   "cell_type": "code",
   "execution_count": 414,
   "metadata": {},
   "outputs": [
    {
     "data": {
      "text/plain": [
       "0          5.660486\n",
       "1          7.336052\n",
       "2          9.120433\n",
       "3         10.972782\n",
       "4         12.816656\n",
       "5         14.340380\n",
       "6         14.885148\n",
       "7         13.635075\n",
       "8         10.134742\n",
       "9          4.575421\n",
       "10        -1.596682\n",
       "11        -6.586914\n",
       "12        -9.248610\n",
       "13        -9.347356\n",
       "14        -7.367540\n",
       "15        -4.063402\n",
       "16        -0.180645\n",
       "17         3.407572\n",
       "18         6.054032\n",
       "19         7.512947\n",
       "20         7.825229\n",
       "21         7.227141\n",
       "22         6.102857\n",
       "23         4.849446\n",
       "24         3.831691\n",
       "25         3.196273\n",
       "26         2.925023\n",
       "27         2.917089\n",
       "28         3.039210\n",
       "29         3.254492\n",
       "            ...    \n",
       "319650    -0.314222\n",
       "319651     1.275392\n",
       "319652     2.625272\n",
       "319653     3.655131\n",
       "319654     4.159126\n",
       "319655     3.879882\n",
       "319656     2.731074\n",
       "319657     1.196170\n",
       "319658     0.319069\n",
       "319659     0.839592\n",
       "319660     2.298748\n",
       "319661     3.114654\n",
       "319662     1.982095\n",
       "319663    -1.201959\n",
       "319664    -5.257030\n",
       "319665    -8.269689\n",
       "319666    -8.760392\n",
       "319667    -6.832932\n",
       "319668    -3.908874\n",
       "319669    -1.234665\n",
       "319670     0.708167\n",
       "319671     1.907028\n",
       "319672     2.671336\n",
       "319673     3.262066\n",
       "319674     3.663614\n",
       "319675     3.690658\n",
       "319676     3.214818\n",
       "319677     2.229951\n",
       "319678     0.749678\n",
       "319679    -1.236596\n",
       "Name: X_t, Length: 319680, dtype: float64"
      ]
     },
     "execution_count": 414,
     "metadata": {},
     "output_type": "execute_result"
    }
   ],
   "source": [
    "lorenz_data[\"X_t\"]"
   ]
  },
  {
   "cell_type": "code",
   "execution_count": 424,
   "metadata": {
    "collapsed": true
   },
   "outputs": [],
   "source": [
    "bins = np.arange(-30, 32, 2)\n",
    "res_sds = np.zeros(bins.shape[0] - 1)\n",
    "res_values = lorenz_data[y_cols].sum(axis=1).values - ann_preds\n",
    "for b, bin_val in enumerate(bins[:-1]):\n",
    "    idxs = np.where((lorenz_data[\"X_t\"].values >=bin_val) & (lorenz_data[\"X_t\"].values < bins[b + 1]))[0]\n",
    "    if len(idxs) > 0:\n",
    "        res_sds[b] = res_values[idxs].std()"
   ]
  },
  {
   "cell_type": "code",
   "execution_count": 425,
   "metadata": {},
   "outputs": [
    {
     "data": {
      "text/plain": [
       "[<matplotlib.lines.Line2D at 0x166abee10>]"
      ]
     },
     "execution_count": 425,
     "metadata": {},
     "output_type": "execute_result"
    },
    {
     "data": {
      "image/png": "[encoded data removed]",
      "text/plain": [
       "<matplotlib.figure.Figure at 0x166a23710>"
      ]
     },
     "metadata": {},
     "output_type": "display_data"
    }
   ],
   "source": [
    "plt.plot(bins[:-1], res_sds)"
   ]
  },
  {
   "cell_type": "code",
   "execution_count": 142,
   "metadata": {},
   "outputs": [
    {
     "data": {
      "text/plain": [
       "2.3337782171445993"
      ]
     },
     "execution_count": 142,
     "metadata": {},
     "output_type": "execute_result"
    }
   ],
   "source": [
    "poly_res = poly_det_preds - lorenz_data[y_cols].sum(axis=1)\n",
    "poly_res.std()"
   ]
  },
  {
   "cell_type": "code",
   "execution_count": 143,
   "metadata": {
    "collapsed": true
   },
   "outputs": [],
   "source": [
    "rand_x = norm.rvs(scale=poly_res.std(), size=lorenz_data[[\"X_t\"]].shape)\n",
    "poly = SubModelPoly(num_terms=3, noise_type=\"additive\")\n",
    "poly.fit(lorenz_data[\"X_t\"].values, lorenz_data[y_cols].sum(axis=1))\n",
    "poly_preds = poly.predict(lorenz_data[[\"X_t\"]], rand_x)"
   ]
  },
  {
   "cell_type": "code",
   "execution_count": 128,
   "metadata": {
    "collapsed": true
   },
   "outputs": [],
   "source": [
    "poly_mult = SubModelPoly(num_terms=3, noise_type=\"multiplicative\")\n",
    "poly_mult.fit(lorenz_data[\"X_t\"].values, lorenz_data[y_cols].sum(axis=1))\n",
    "poly_mult_preds = poly_mult.predict(lorenz_data[[\"X_t\"]], rand_x)"
   ]
  },
  {
   "cell_type": "code",
   "execution_count": 145,
   "metadata": {},
   "outputs": [
    {
     "name": "stderr",
     "output_type": "stream",
     "text": [
      "/Users/dgagne/anaconda3/lib/python3.5/site-packages/matplotlib/axes/_axes.py:6497: RuntimeWarning: invalid value encountered in greater\n",
      "  h[h > cmax] = None\n"
     ]
    },
    {
     "data": {
      "text/plain": [
       "<matplotlib.text.Text at 0x12da0c7f0>"
      ]
     },
     "execution_count": 145,
     "metadata": {},
     "output_type": "execute_result"
    },
    {
     "name": "stderr",
     "output_type": "stream",
     "text": [
      "/Users/dgagne/anaconda3/lib/python3.5/site-packages/matplotlib/colors.py:929: RuntimeWarning: invalid value encountered in less_equal\n",
      "  mask |= resdat <= 0\n"
     ]
    },
    {
     "data": {
      "image/png": "[encoded data removed]",
      "text/plain": [
       "<matplotlib.figure.Figure at 0x12d9d3d30>"
      ]
     },
     "metadata": {},
     "output_type": "display_data"
    }
   ],
   "source": [
    "epoch = 10\n",
    "fig, axes = plt.subplots(1, 3, figsize=(15, 5))\n",
    "_ = axes[0].hist2d(lorenz_data[\"X_t\"], lorenz_data[y_cols].sum(axis=1), bins=[np.linspace(-30, 30, 30), \n",
    "                                                                                   np.linspace(-30, 30, 30)], \n",
    "                   cmin=1, cmax=50000, norm=LogNorm(1, 50000))\n",
    "axes[0].set_title(\"Lorenz '96 Truth\", fontsize=16)\n",
    "_ = axes[1].hist2d(lorenz_data[\"X_t\"], poly_preds, bins=[np.linspace(-30, 30, 30), \n",
    "                                                                           np.linspace(-30, 30, 30)], \n",
    "                   cmin=1, cmax=50000, norm=LogNorm(1, 50000))\n",
    "_ = axes[2].hist2d(lorenz_data[\"X_t\"], poly_mult_preds, bins=[np.linspace(-30, 30, 30), \n",
    "                                                                           np.linspace(-30, 30, 30)], \n",
    "                   cmin=1, cmax=50000, norm=LogNorm(1, 50000))\n",
    "axes[1].set_title(\"Lorenz '96 Additive Polynomial\".format(epoch), fontsize=16)\n",
    "axes[2].set_title(\"Lorenz '96 Polynomial\".format(epoch), fontsize=16)\n",
    "\n",
    "for a in range(3):\n",
    "    axes[a].set_xlabel(\"$X_t$\", fontsize=14)\n",
    "    axes[a].grid()\n",
    "axes[0].set_ylabel(\"Subgrid Forcing ($U_{t+1}$)\", fontsize=14)"
   ]
  },
  {
   "cell_type": "code",
   "execution_count": 123,
   "metadata": {},
   "outputs": [
    {
     "data": {
      "text/plain": [
       "<xarray.DataArray 'lorenz_x' (time: 399600)>\n",
       "[399600 values with dtype=float64]\n",
       "Coordinates:\n",
       "  * time     (time) float64 2.0 2.005 2.01 2.015 2.02 2.025 2.03 2.035 2.04 ...\n",
       "    x        int64 0\n",
       "Attributes:\n",
       "    units:      \n",
       "    long_name:  lorenz_x"
      ]
     },
     "execution_count": 123,
     "metadata": {},
     "output_type": "execute_result"
    }
   ],
   "source": [
    "truth_data = xr.open_dataset(\"../exp_u/lorenz_output.nc\")\n",
    "truth_data[\"lorenz_x\"][:, 0]"
   ]
  },
  {
   "cell_type": "code",
   "execution_count": 124,
   "metadata": {
    "collapsed": true
   },
   "outputs": [],
   "source": [
    "ar1 = AR1RandomUpdater()\n",
    "ar1.fit(truth_data[\"lorenz_x\"][:, 0])"
   ]
  },
  {
   "cell_type": "code",
   "execution_count": 127,
   "metadata": {},
   "outputs": [
    {
     "data": {
      "text/plain": [
       "0.99852411747413328"
      ]
     },
     "execution_count": 127,
     "metadata": {},
     "output_type": "execute_result"
    }
   ],
   "source": [
    "ar1.corr"
   ]
  },
  {
   "cell_type": "code",
   "execution_count": 163,
   "metadata": {
    "collapsed": true
   },
   "outputs": [],
   "source": [
    "x_row = truth_data[\"lorenz_x\"][:, 0].values"
   ]
  },
  {
   "cell_type": "code",
   "execution_count": 186,
   "metadata": {
    "collapsed": true
   },
   "outputs": [],
   "source": [
    "poly_x = poly_det.predict(x_row.reshape(-1,1), np.zeros(x_row.shape))\n",
    "poly_res = poly_x - x_row"
   ]
  },
  {
   "cell_type": "code",
   "execution_count": 184,
   "metadata": {},
   "outputs": [
    {
     "data": {
      "text/plain": [
       "[<matplotlib.lines.Line2D at 0x14ff29a20>]"
      ]
     },
     "execution_count": 184,
     "metadata": {},
     "output_type": "execute_result"
    },
    {
     "data": {
      "image/png": "[encoded data removed]",
      "text/plain": [
       "<matplotlib.figure.Figure at 0x12e674a58>"
      ]
     },
     "metadata": {},
     "output_type": "display_data"
    }
   ],
   "source": [
    "shifts = np.arange(1, 30)\n",
    "corrs = np.zeros(shifts.shape)\n",
    "for s, shift in enumerate(shifts):\n",
    "    corrs[s] = pd.Series(x_row - poly_x).autocorr(shift)\n",
    "plt.plot(shifts, corrs)"
   ]
  },
  {
   "cell_type": "code",
   "execution_count": 191,
   "metadata": {},
   "outputs": [
    {
     "data": {
      "text/plain": [
       "[<matplotlib.lines.Line2D at 0x147460940>]"
      ]
     },
     "execution_count": 191,
     "metadata": {},
     "output_type": "execute_result"
    },
    {
     "data": {
      "image/png": "[encoded data removed]",
      "text/plain": [
       "<matplotlib.figure.Figure at 0x1380dc4e0>"
      ]
     },
     "metadata": {},
     "output_type": "display_data"
    }
   ],
   "source": [
    "plt.plot(poly_res[60: 300])"
   ]
  },
  {
   "cell_type": "code",
   "execution_count": 445,
   "metadata": {},
   "outputs": [
    {
     "name": "stdout",
     "output_type": "stream",
     "text": [
      "_________________________________________________________________\n",
      "Layer (type)                 Output Shape              Param #   \n",
      "=================================================================\n",
      "input_59 (InputLayer)        (None, 1)                 0         \n",
      "_________________________________________________________________\n",
      "dense_146 (Dense)            (None, 6)                 12        \n",
      "_________________________________________________________________\n",
      "activation_90 (Activation)   (None, 6)                 0         \n",
      "_________________________________________________________________\n",
      "dropout_47 (Dropout)         (None, 6)                 0         \n",
      "_________________________________________________________________\n",
      "gaussian_noise_21 (GaussianN (None, 6)                 0         \n",
      "_________________________________________________________________\n",
      "dense_147 (Dense)            (None, 6)                 42        \n",
      "_________________________________________________________________\n",
      "activation_91 (Activation)   (None, 6)                 0         \n",
      "_________________________________________________________________\n",
      "dropout_48 (Dropout)         (None, 6)                 0         \n",
      "_________________________________________________________________\n",
      "gaussian_noise_22 (GaussianN (None, 6)                 0         \n",
      "_________________________________________________________________\n",
      "dense_148 (Dense)            (None, 3)                 21        \n",
      "=================================================================\n",
      "Total params: 75\n",
      "Trainable params: 75\n",
      "Non-trainable params: 0\n",
      "_________________________________________________________________\n",
      "None\n"
     ]
    }
   ],
   "source": [
    "res_net_det = Input((1,))\n",
    "res_net = Dense(6)(res_net_det)\n",
    "res_net = Activation(\"selu\")(res_net)\n",
    "res_net = Dropout(0.5)(res_net)\n",
    "res_net = GaussianNoise(1)(res_net)\n",
    "res_net = Dense(6)(res_net)\n",
    "res_net = Activation(\"selu\")(res_net)\n",
    "res_net = Dropout(0.5)(res_net)\n",
    "res_net = GaussianNoise(1)(res_net)\n",
    "res_net = Dense(3)(res_net)\n",
    "res_net_model = Model(res_net_det, res_net)\n",
    "res_net_model.compile(\"adam\", \"mse\")\n",
    "print(res_net_model.summary())"
   ]
  },
  {
   "cell_type": "code",
   "execution_count": 310,
   "metadata": {
    "collapsed": true
   },
   "outputs": [],
   "source": [
    "outputs = np.zeros((poly_res.shape[0] - 6, 3))\n",
    "for i in range(poly_res.shape[0] - 6):\n",
    "    outputs[i] = poly_res[i+1:i+4]\n",
    "    "
   ]
  },
  {
   "cell_type": "code",
   "execution_count": 321,
   "metadata": {},
   "outputs": [
    {
     "data": {
      "text/plain": [
       "[array([[ 0.20663193, -0.34509084,  0.23296945],\n",
       "        [ 0.46442187, -0.00123744, -0.31755602]], dtype=float32),\n",
       " array([ 2.20410872,  1.96106398,  2.90702581], dtype=float32)]"
      ]
     },
     "execution_count": 321,
     "metadata": {},
     "output_type": "execute_result"
    }
   ],
   "source": [
    "res_net_model.layers[-4].get_weights()"
   ]
  },
  {
   "cell_type": "code",
   "execution_count": 446,
   "metadata": {},
   "outputs": [
    {
     "name": "stdout",
     "output_type": "stream",
     "text": [
      "Epoch 1/15\n",
      "399594/399594 [==============================] - 6s - loss: 6.1414     \n",
      "Epoch 2/15\n",
      "399594/399594 [==============================] - 5s - loss: 3.1357     \n",
      "Epoch 3/15\n",
      "399594/399594 [==============================] - 6s - loss: 2.9551     \n",
      "Epoch 4/15\n",
      "399594/399594 [==============================] - 6s - loss: 2.9169     \n",
      "Epoch 5/15\n",
      "399594/399594 [==============================] - 6s - loss: 2.8955     \n",
      "Epoch 6/15\n",
      "399594/399594 [==============================] - 6s - loss: 2.8887     \n",
      "Epoch 7/15\n",
      "399594/399594 [==============================] - 6s - loss: 2.8715     \n",
      "Epoch 8/15\n",
      "399594/399594 [==============================] - 7s - loss: 2.8637     \n",
      "Epoch 9/15\n",
      "399594/399594 [==============================] - 6s - loss: 2.8656     \n",
      "Epoch 10/15\n",
      "399594/399594 [==============================] - 7s - loss: 2.8460     \n",
      "Epoch 11/15\n",
      "399594/399594 [==============================] - 7s - loss: 2.8796     \n",
      "Epoch 12/15\n",
      "399594/399594 [==============================] - 8s - loss: 2.8582     \n",
      "Epoch 13/15\n",
      "399594/399594 [==============================] - 8s - loss: 2.8411     \n",
      "Epoch 14/15\n",
      "399594/399594 [==============================] - 9s - loss: 2.8634     \n",
      "Epoch 15/15\n",
      "399594/399594 [==============================] - 10s - loss: 2.8503    \n"
     ]
    },
    {
     "data": {
      "text/plain": [
       "<keras.callbacks.History at 0x166a2eb70>"
      ]
     },
     "execution_count": 446,
     "metadata": {},
     "output_type": "execute_result"
    }
   ],
   "source": [
    "\n",
    "res_net_model.fit(np.expand_dims(poly_res[:-6], axis=-1), outputs, batch_size=256, epochs=15)"
   ]
  },
  {
   "cell_type": "code",
   "execution_count": 447,
   "metadata": {
    "collapsed": true
   },
   "outputs": [],
   "source": [
    "stoch_pred = K.function([res_net_model.input, K.learning_phase()], [res_net_model.output])\n",
    "num_preds = 1000\n",
    "inputs = np.arange(-3, 4)\n",
    "stoch_outputs = pd.DataFrame(index=np.arange(num_preds), columns=inputs, dtype=float)\n",
    "for i, in_val in enumerate(inputs):\n",
    "    for n in range(num_preds):\n",
    "        stoch_outputs.iloc[n, i] = stoch_pred([np.array([[in_val]]), 1])[0][0,0]"
   ]
  },
  {
   "cell_type": "code",
   "execution_count": 348,
   "metadata": {
    "collapsed": true
   },
   "outputs": [],
   "source": [
    "def ar1_pred(x):\n",
    "    corr = 0.986\n",
    "    sd = 1.99\n",
    "    return corr * x + sd * (1 - corr ** 2) ** 0.5 * norm.rvs() \n",
    "\n",
    "num_preds = 1000\n",
    "inputs = np.arange(-3, 4)\n",
    "ar1_outputs = pd.DataFrame(index=np.arange(num_preds), columns=inputs, dtype=float)\n",
    "for i, in_val in enumerate(inputs):\n",
    "    for n in range(num_preds):\n",
    "        ar1_outputs.iloc[n, i] = ar1_pred(in_val)"
   ]
  },
  {
   "cell_type": "code",
   "execution_count": 448,
   "metadata": {},
   "outputs": [
    {
     "data": {
      "text/plain": [
       "<matplotlib.axes._subplots.AxesSubplot at 0x17da5b390>"
      ]
     },
     "execution_count": 448,
     "metadata": {},
     "output_type": "execute_result"
    },
    {
     "data": {
      "image/png": "[encoded data removed]",
      "text/plain": [
       "<matplotlib.figure.Figure at 0x17d8d1be0>"
      ]
     },
     "metadata": {},
     "output_type": "display_data"
    }
   ],
   "source": [
    "stoch_outputs.boxplot()"
   ]
  },
  {
   "cell_type": "code",
   "execution_count": 449,
   "metadata": {},
   "outputs": [
    {
     "data": {
      "text/plain": [
       "<matplotlib.axes._subplots.AxesSubplot at 0x17da7bef0>"
      ]
     },
     "execution_count": 449,
     "metadata": {},
     "output_type": "execute_result"
    },
    {
     "data": {
      "image/png": "[encoded data removed]",
      "text/plain": [
       "<matplotlib.figure.Figure at 0x17d933278>"
      ]
     },
     "metadata": {},
     "output_type": "display_data"
    }
   ],
   "source": [
    "ar1_outputs.boxplot()"
   ]
  },
  {
   "cell_type": "code",
   "execution_count": 304,
   "metadata": {},
   "outputs": [
    {
     "data": {
      "text/plain": [
       "1.9909390584344886"
      ]
     },
     "execution_count": 304,
     "metadata": {},
     "output_type": "execute_result"
    }
   ],
   "source": [
    "1.99 * (1 - .986**2) ** 0.5 * 6"
   ]
  },
  {
   "cell_type": "code",
   "execution_count": 297,
   "metadata": {},
   "outputs": [
    {
     "data": {
      "text/plain": [
       "0.16674531477675783"
      ]
     },
     "execution_count": 297,
     "metadata": {},
     "output_type": "execute_result"
    }
   ],
   "source": [
    "(1 - .986**2) ** 0.5"
   ]
  },
  {
   "cell_type": "code",
   "execution_count": 270,
   "metadata": {},
   "outputs": [
    {
     "data": {
      "image/png": "[encoded data removed]",
      "text/plain": [
       "<matplotlib.figure.Figure at 0x148a100f0>"
      ]
     },
     "metadata": {},
     "output_type": "display_data"
    }
   ],
   "source": [
    "plt.hist(poly_res[1:] - poly_res[:-1], 20)\n",
    "plt.gca().set_yscale(\"log\")"
   ]
  },
  {
   "cell_type": "code",
   "execution_count": 277,
   "metadata": {},
   "outputs": [
    {
     "data": {
      "text/plain": [
       "(array([  1.92000000e+02,   9.86000000e+02,   5.00100000e+03,\n",
       "          1.40220000e+04,   4.68960000e+04,   2.79986000e+05,\n",
       "          4.96490000e+04,   2.70100000e+03,   1.46000000e+02,\n",
       "          2.10000000e+01]),\n",
       " array([-21.63609865, -17.78862082, -13.941143  , -10.09366518,\n",
       "         -6.24618736,  -2.39870953,   1.44876829,   5.29624611,\n",
       "          9.14372393,  12.99120176,  16.83867958]),\n",
       " <a list of 10 Patch objects>)"
      ]
     },
     "execution_count": 277,
     "metadata": {},
     "output_type": "execute_result"
    },
    {
     "data": {
      "image/png": "[encoded data removed]",
      "text/plain": [
       "<matplotlib.figure.Figure at 0x151b89f98>"
      ]
     },
     "metadata": {},
     "output_type": "display_data"
    }
   ],
   "source": [
    "plt.hist(poly_res)"
   ]
  },
  {
   "cell_type": "code",
   "execution_count": 25,
   "metadata": {
    "collapsed": true
   },
   "outputs": [],
   "source": [
    "class SubModelPolyAdd(object):\n",
    "    def __init__(self, num_terms=3):\n",
    "        self.num_terms = num_terms\n",
    "        self.model = LinearRegression()\n",
    "        self.res_sd = 0\n",
    "        self.corr = 1\n",
    "\n",
    "    def fit(self, x, u):\n",
    "        x_terms = np.zeros((x.shape[0], self.num_terms))\n",
    "        for p in range(1, self.num_terms + 1):\n",
    "            x_terms[:, p - 1] = x[:, 0] ** p\n",
    "        self.model.fit(x_terms, u)\n",
    "        u_mean = self.model.predict(x_terms)\n",
    "        residuals = u - u_mean\n",
    "        self.corr = np.corrcoef(residuals[1:], residuals[:-1])[0, 1]\n",
    "        self.res_sd = np.std(residuals)\n",
    "\n",
    "    def predict(self, x, residuals=None):\n",
    "        if residuals is None:\n",
    "            residuals = np.zeros(x.shape[0])\n",
    "        x_terms = np.zeros((x.shape[0], self.num_terms))\n",
    "        for p in range(1, self.num_terms + 1):\n",
    "            x_terms[:, p - 1] = x[:, 0] ** p\n",
    "        u_mean = self.model.predict(x_terms)\n",
    "        u_res = self.corr * residuals + \\\n",
    "            self.res_sd * np.sqrt(1 - self.corr ** 2) * np.random.normal(size=residuals.shape)\n",
    "        return u_mean, u_res\n",
    "    \n",
    "class SubModelANNRes(object):\n",
    "    def __init__(self, mean_inputs=1, hidden_layers=2, hidden_neurons=8,\n",
    "                 activation=\"selu\", l2_weight=0.01, learning_rate=0.001, loss=\"mse\",\n",
    "                 noise_sd=1, beta_1=0.9, model_path=None, dropout_alpha=0.5,\n",
    "                 num_epochs=10, batch_size=1024, val_split=0.5, verbose=0, model_config=0):\n",
    "        self.config = dict(mean_inputs=mean_inputs,\n",
    "                           hidden_layers=hidden_layers,\n",
    "                           hidden_neurons=hidden_neurons,\n",
    "                           activation=activation,\n",
    "                           l2_weight=l2_weight,\n",
    "                           learning_rate=learning_rate,\n",
    "                           loss=loss,\n",
    "                           noise_sd=noise_sd,\n",
    "                           beta_1=beta_1,\n",
    "                           dropout_alpha=dropout_alpha,\n",
    "                           model_path=model_path,\n",
    "                           num_epochs=num_epochs,\n",
    "                           batch_size=batch_size,\n",
    "                           verbose=verbose,\n",
    "                           model_config=model_config,\n",
    "                           val_split=val_split)\n",
    "        if model_path is None:\n",
    "            nn_input = Input((mean_inputs,))\n",
    "            nn_model = nn_input\n",
    "            for h in range(hidden_layers):\n",
    "                nn_model = Dense(hidden_neurons, kernel_regularizer=l2(l2_weight))(nn_model)\n",
    "                if activation == \"leaky\":\n",
    "                    nn_model = LeakyReLU(0.1)(nn_model)\n",
    "                else:\n",
    "                    nn_model = Activation(activation)(nn_model)\n",
    "            nn_model = Dense(1)(nn_model)\n",
    "            nn_res_input_x = Input((mean_inputs,))\n",
    "            nn_res_input_res = Input((1,))\n",
    "            nn_res = concatenate([nn_res_input_x, nn_res_input_res])\n",
    "            for h in range(hidden_layers):\n",
    "                nn_res = Dense(hidden_neurons, kernel_regularizer=l2(l2_weight))(nn_res)\n",
    "                if activation == \"leaky\":\n",
    "                    nn_res = LeakyReLU(0.1)(nn_res)\n",
    "                else:\n",
    "                    nn_res = Activation(activation)(nn_res)\n",
    "                nn_res = Dropout(dropout_alpha)(nn_res)\n",
    "                nn_res = GaussianNoise(noise_sd)(nn_res)\n",
    "            nn_res = Dense(1)(nn_res)\n",
    "            self.mean_model = Model(nn_input, nn_model)\n",
    "            self.mean_model.compile(Adam(lr=learning_rate, beta_1=beta_1), loss=loss)\n",
    "            self.res_model = Model([nn_res_input_x, nn_res_input_res], nn_res)\n",
    "            self.res_model.compile(Adam(lr=learning_rate, beta_1=beta_1), loss=loss)\n",
    "            self.x_scaling_file = None\n",
    "            self.x_scaling_values = None\n",
    "        elif type(model_path) == str:\n",
    "            mean_model_file = join(model_path, \"ann_res_config_{0:04d}_mean.nc\".format(self.config[\"model_config\"]))\n",
    "            res_model_file = join(model_path, \"ann_res_config_{0:04d}_res.nc\".format(self.config[\"model_config\"]))\n",
    "            self.mean_model = load_model(mean_model_file)\n",
    "            self.res_model = load_model(res_model_file)\n",
    "            self.x_scaling_file = join(model_path, \"gan_X_scaling_values_{0}.csv\".format(model_config))\n",
    "            self.x_scaling_values = pd.read_csv(self.x_scaling_file, index_col=\"Channel\")\n",
    "        self.res_predict = K.function(self.res_model.input + [K.learning_phase()], [self.res_model.output])\n",
    "\n",
    "    def fit(self, cond_x, u):\n",
    "        split_index = int(cond_x.shape[0] * self.config[\"val_split\"])\n",
    "        norm_x, self.x_scaling_values = normalize_data(cond_x,\n",
    "                                                       scaling_values=self.x_scaling_values)\n",
    "        self.mean_model.fit(norm_x[:split_index], u[:split_index], batch_size=self.config[\"batch_size\"],\n",
    "                            epochs=self.config[\"num_epochs\"],\n",
    "                            verbose=self.config[\"verbose\"])\n",
    "        mean_preds = self.mean_model.predict(norm_x[split_index:]).ravel()\n",
    "        residuals = u[split_index:] - mean_preds\n",
    "        self.res_model.fit([norm_x[split_index:-1], residuals[:-1].reshape(-1, 1)], \n",
    "                           residuals[1:], batch_size=self.config[\"batch_size\"],\n",
    "                           epochs=self.config[\"num_epochs\"],\n",
    "                           verbose=self.config[\"verbose\"])\n",
    "\n",
    "    def predict(self, cond_x, residuals):\n",
    "        norm_x = normalize_data(cond_x, scaling_values=self.x_scaling_values)[0]\n",
    "        u_mean = self.mean_model.predict(norm_x).ravel()\n",
    "        u_res = self.res_predict([norm_x, residuals, 1])[0].ravel()\n",
    "        return u_mean, u_res\n",
    "\n",
    "    def save_model(self, out_path):\n",
    "        out_config_file = join(out_path, \"ann_res_config_{0:04d}_opts.yaml\".format(self.config[\"model_config\"]))\n",
    "        with open(out_config_file, \"w\") as out_config:\n",
    "            yaml.dump(self.config, out_config)\n",
    "        mean_model_file = join(out_path, \"ann_res_config_{0:04d}_mean.nc\".format(self.config[\"model_config\"]))\n",
    "        res_model_file = join(out_path, \"ann_res_config_{0:04d}_res.nc\".format(self.config[\"model_config\"]))\n",
    "        save_model(self.mean_model, mean_model_file)\n",
    "        save_model(self.res_model, res_model_file)\n",
    "        self.x_scaling_values.to_csv(self.x_scaling_file, index_label=\"Channel\")\n",
    "        \n",
    "def normalize_data(data, scaling_values=None):\n",
    "    \"\"\"\n",
    "    Normalize each channel in the multi dimensional data matrix independently.\n",
    "\n",
    "    Args:\n",
    "        data: multi-dimensional array with dimensions (example, ..., channel/variable)\n",
    "        scaling_values: pandas dataframe containing mean and std columns\n",
    "\n",
    "    Returns:\n",
    "        normalized data array, scaling_values\n",
    "    \"\"\"\n",
    "    normed_data = np.zeros(data.shape, dtype=data.dtype)\n",
    "    scale_cols = [\"mean\", \"std\"]\n",
    "    if scaling_values is None:\n",
    "        scaling_values = pd.DataFrame(np.zeros((data.shape[-1], len(scale_cols)), dtype=np.float32),\n",
    "                                      columns=scale_cols)\n",
    "        for i in range(data.shape[-1]):\n",
    "            scaling_values.loc[i, [\"mean\", \"std\"]] = [data[..., i].mean(), data[..., i].std()]\n",
    "    for i in range(data.shape[-1]):\n",
    "        normed_data[..., i] = (data[..., i] - scaling_values.loc[i, \"mean\"]) / scaling_values.loc[i, \"std\"]\n",
    "    return normed_data, scaling_values\n",
    "\n",
    "def unnormalize_data(normed_data, scaling_values):\n",
    "    \"\"\"\n",
    "    Re-scale normalized data back to original values\n",
    "\n",
    "    Args:\n",
    "        normed_data: normalized data\n",
    "        scaling_values: pandas dataframe of mean and standard deviation from normalize_data\n",
    "\n",
    "    Returns:\n",
    "        Re-scaled data\n",
    "    \"\"\"\n",
    "    data = np.zeros(normed_data.shape, dtype=normed_data.dtype)\n",
    "    for i in range(normed_data.shape[-1]):\n",
    "        data[..., i] = normed_data[..., i] * scaling_values.loc[i, \"std\"] + scaling_values.loc[i, \"mean\"]\n",
    "    return data"
   ]
  },
  {
   "cell_type": "code",
   "execution_count": 8,
   "metadata": {
    "collapsed": true
   },
   "outputs": [],
   "source": [
    "truth_data = xr.open_dataset(\"../exp_u/lorenz_output.nc\")\n",
    "x_0 = truth_data[\"lorenz_x\"][:-1, 0].values.reshape(-1, 1)\n",
    "u_0 = truth_data[\"lorenz_y\"][1:, 0:32].sum(axis=1).values\n",
    "truth_data.close()\n",
    "split = 200000"
   ]
  },
  {
   "cell_type": "code",
   "execution_count": 9,
   "metadata": {},
   "outputs": [],
   "source": [
    "poly_add = SubModelPolyAdd()\n",
    "poly_add.fit(x_0[:split], u_0[:split])"
   ]
  },
  {
   "cell_type": "code",
   "execution_count": 10,
   "metadata": {},
   "outputs": [
    {
     "data": {
      "text/plain": [
       "2.3243622812289204"
      ]
     },
     "execution_count": 10,
     "metadata": {},
     "output_type": "execute_result"
    }
   ],
   "source": [
    "poly_add.res_sd"
   ]
  },
  {
   "cell_type": "code",
   "execution_count": 11,
   "metadata": {
    "scrolled": true
   },
   "outputs": [
    {
     "name": "stdout",
     "output_type": "stream",
     "text": [
      "0 0.0380557311629 0.0380557311629\n",
      "1000 1.63719009337 1.63719009337\n",
      "2000 3.03190540914 3.03190540914\n",
      "3000 -1.72470539421 -1.72470539421\n",
      "4000 0.827136235133 0.827136235133\n",
      "5000 0.558129794138 0.558129794138\n",
      "6000 -1.29246294289 -1.29246294289\n",
      "7000 1.85003791961 1.85003791961\n",
      "8000 3.87887771745 3.87887771745\n",
      "9000 1.63211714608 1.63211714608\n",
      "10000 2.02019365204 2.02019365204\n",
      "11000 2.24698996735 2.24698996735\n",
      "12000 3.02185077941 3.02185077941\n",
      "13000 3.24943826754 3.24943826754\n",
      "14000 4.09805622966 4.09805622966\n",
      "15000 -3.37940614617 -3.37940614617\n",
      "16000 -1.93022183295 -1.93022183295\n",
      "17000 -1.01734572935 -1.01734572935\n",
      "18000 2.22577250503 2.22577250503\n",
      "19000 1.47987507936 1.47987507936\n",
      "20000 2.86877146478 2.86877146478\n",
      "21000 -1.76838344427 -1.76838344427\n",
      "22000 0.508331235604 0.508331235604\n",
      "23000 1.62965376861 1.62965376861\n",
      "24000 -1.89943359213 -1.89943359213\n",
      "25000 -2.36535049468 -2.36535049468\n",
      "26000 0.827080460498 0.827080460498\n",
      "27000 5.71790605582 5.71790605582\n",
      "28000 -1.66674578844 -1.66674578844\n",
      "29000 2.84639979721 2.84639979721\n",
      "30000 0.243276644852 0.243276644852\n",
      "31000 1.09737180049 1.09737180049\n",
      "32000 -1.81925341323 -1.81925341323\n",
      "33000 -0.85869772054 -0.85869772054\n",
      "34000 -0.835043486095 -0.835043486095\n",
      "35000 4.28564607963 4.28564607963\n",
      "36000 3.79813868778 3.79813868778\n",
      "37000 0.158587664114 0.158587664114\n",
      "38000 -2.33788760134 -2.33788760134\n",
      "39000 -1.84178024451 -1.84178024451\n",
      "40000 -0.251688755902 -0.251688755902\n",
      "41000 0.073523953866 0.073523953866\n",
      "42000 1.30299117389 1.30299117389\n",
      "43000 5.33985128927 5.33985128927\n",
      "44000 -1.5451020032 -1.5451020032\n",
      "45000 5.56820283188 5.56820283188\n",
      "46000 -0.759758855126 -0.759758855126\n",
      "47000 -1.9446633019 -1.9446633019\n",
      "48000 -1.02882355144 -1.02882355144\n",
      "49000 0.0535568312924 0.0535568312924\n",
      "50000 1.37721541633 1.37721541633\n",
      "51000 1.43978305942 1.43978305942\n",
      "52000 -1.58030200328 -1.58030200328\n",
      "53000 1.28667315676 1.28667315676\n",
      "54000 1.93213869749 1.93213869749\n",
      "55000 0.953678388335 0.953678388335\n",
      "56000 -1.89499077729 -1.89499077729\n",
      "57000 -0.119602667363 -0.119602667363\n",
      "58000 -2.83906984326 -2.83906984326\n",
      "59000 -0.996337025614 -0.996337025614\n",
      "60000 2.39135818983 2.39135818983\n",
      "61000 1.73373113567 1.73373113567\n",
      "62000 1.6293602841 1.6293602841\n",
      "63000 -0.610583814743 -0.610583814743\n",
      "64000 3.0122756238 3.0122756238\n",
      "65000 -2.19320694541 -2.19320694541\n",
      "66000 -4.04956402935 -4.04956402935\n",
      "67000 -0.521504571574 -0.521504571574\n",
      "68000 -3.85516959352 -3.85516959352\n",
      "69000 -4.09800640951 -4.09800640951\n",
      "70000 1.18731453195 1.18731453195\n",
      "71000 2.82952837435 2.82952837435\n",
      "72000 -0.241817245937 -0.241817245937\n",
      "73000 -2.67659354493 -2.67659354493\n",
      "74000 -2.50542655022 -2.50542655022\n",
      "75000 1.03441951992 1.03441951992\n",
      "76000 3.075503762 3.075503762\n",
      "77000 -0.611349551142 -0.611349551142\n",
      "78000 0.619634454108 0.619634454108\n",
      "79000 -2.21308075867 -2.21308075867\n",
      "80000 2.06779021502 2.06779021502\n",
      "81000 0.05820231519 0.05820231519\n",
      "82000 -1.66428242718 -1.66428242718\n",
      "83000 -0.80092646867 -0.80092646867\n",
      "84000 0.973068691307 0.973068691307\n",
      "85000 -1.23966573562 -1.23966573562\n",
      "86000 0.378809258708 0.378809258708\n",
      "87000 -0.51452443406 -0.51452443406\n",
      "88000 -4.96036674514 -4.96036674514\n",
      "89000 0.588172795125 0.588172795125\n",
      "90000 -1.41810728772 -1.41810728772\n",
      "91000 -1.49854981358 -1.49854981358\n",
      "92000 1.39523936898 1.39523936898\n",
      "93000 3.8294859231 3.8294859231\n",
      "94000 -2.3143989965 -2.3143989965\n",
      "95000 -1.04048972634 -1.04048972634\n",
      "96000 -0.151078854173 -0.151078854173\n",
      "97000 -0.86629950942 -0.86629950942\n",
      "98000 -0.97829063021 -0.97829063021\n",
      "99000 -1.01111756808 -1.01111756808\n",
      "100000 1.43946624224 1.43946624224\n",
      "101000 1.37761697837 1.37761697837\n",
      "102000 -1.35621300483 -1.35621300483\n",
      "103000 -2.48473347716 -2.48473347716\n",
      "104000 0.341544312996 0.341544312996\n",
      "105000 0.683947780079 0.683947780079\n",
      "106000 -1.22171538073 -1.22171538073\n",
      "107000 3.38608448244 3.38608448244\n",
      "108000 3.38626252073 3.38626252073\n",
      "109000 -1.29765702603 -1.29765702603\n",
      "110000 1.09320116578 1.09320116578\n",
      "111000 0.625960660822 0.625960660822\n",
      "112000 1.78546576188 1.78546576188\n",
      "113000 0.215031971335 0.215031971335\n",
      "114000 -0.349574008011 -0.349574008011\n",
      "115000 -0.142082896903 -0.142082896903\n",
      "116000 0.56903670472 0.56903670472\n",
      "117000 1.54812956804 1.54812956804\n",
      "118000 0.292207169499 0.292207169499\n",
      "119000 -0.677454185463 -0.677454185463\n",
      "120000 0.0325518282289 0.0325518282289\n",
      "121000 0.841056839375 0.841056839375\n",
      "122000 0.340879041707 0.340879041707\n",
      "123000 0.904342706797 0.904342706797\n",
      "124000 2.11860243078 2.11860243078\n",
      "125000 -0.796365017176 -0.796365017176\n",
      "126000 -0.430420404558 -0.430420404558\n",
      "127000 -2.40190490919 -2.40190490919\n",
      "128000 -1.79692994093 -1.79692994093\n",
      "129000 -1.2995704854 -1.2995704854\n",
      "130000 1.72769714518 1.72769714518\n",
      "131000 -0.223017425304 -0.223017425304\n",
      "132000 2.60878542876 2.60878542876\n",
      "133000 -0.315405410646 -0.315405410646\n",
      "134000 1.46826222045 1.46826222045\n",
      "135000 1.86195915989 1.86195915989\n",
      "136000 -1.19034432032 -1.19034432032\n",
      "137000 3.38846527061 3.38846527061\n",
      "138000 -0.728659191855 -0.728659191855\n",
      "139000 -0.683161860441 -0.683161860441\n",
      "140000 1.59892258374 1.59892258374\n",
      "141000 0.357305851162 0.357305851162\n",
      "142000 3.18226091101 3.18226091101\n",
      "143000 0.133809527192 0.133809527192\n",
      "144000 1.90584548423 1.90584548423\n",
      "145000 0.708270060576 0.708270060576\n",
      "146000 0.00340172527464 0.00340172527464\n",
      "147000 2.27804920886 2.27804920886\n",
      "148000 -1.51160134915 -1.51160134915\n",
      "149000 2.0725177721 2.0725177721\n",
      "150000 0.76783630057 0.76783630057\n",
      "151000 -0.889746726971 -0.889746726971\n",
      "152000 5.06119279932 5.06119279932\n",
      "153000 1.27471799527 1.27471799527\n",
      "154000 -0.0827615101171 -0.0827615101171\n",
      "155000 4.01268512616 4.01268512616\n",
      "156000 0.636650371336 0.636650371336\n",
      "157000 0.757692272167 0.757692272167\n",
      "158000 3.18265631985 3.18265631985\n",
      "159000 0.258265455062 0.258265455062\n",
      "160000 1.49755259774 1.49755259774\n",
      "161000 1.05641309173 1.05641309173\n",
      "162000 -1.57728813471 -1.57728813471\n",
      "163000 1.06261963828 1.06261963828\n",
      "164000 2.0681395941 2.0681395941\n",
      "165000 -1.91846928315 -1.91846928315\n",
      "166000 0.69355810517 0.69355810517\n",
      "167000 0.978557349327 0.978557349327\n",
      "168000 -3.00634554594 -3.00634554594\n",
      "169000 -1.28678545268 -1.28678545268\n",
      "170000 0.456836862469 0.456836862469\n",
      "171000 -1.65022247415 -1.65022247415\n",
      "172000 -3.79672200462 -3.79672200462\n",
      "173000 4.07962735126 4.07962735126\n",
      "174000 -0.385360715759 -0.385360715759\n",
      "175000 1.12117438903 1.12117438903\n",
      "176000 -0.0702582325912 -0.0702582325912\n",
      "177000 -0.422171753338 -0.422171753338\n",
      "178000 1.29360634589 1.29360634589\n",
      "179000 -1.91898427755 -1.91898427755\n",
      "180000 -2.46791571541 -2.46791571541\n",
      "181000 1.84099098252 1.84099098252\n",
      "182000 1.88561176538 1.88561176538\n",
      "183000 -0.171629839159 -0.171629839159\n",
      "184000 -4.65579209441 -4.65579209441\n",
      "185000 2.24588368793 2.24588368793\n",
      "186000 1.46581741423 1.46581741423\n",
      "187000 0.847229974356 0.847229974356\n",
      "188000 5.41200800516 5.41200800516\n",
      "189000 1.35403996014 1.35403996014\n",
      "190000 1.50625482432 1.50625482432\n",
      "191000 -1.28344024809 -1.28344024809\n",
      "192000 0.351558567627 0.351558567627\n",
      "193000 -1.68985688112 -1.68985688112\n",
      "194000 -1.49183850608 -1.49183850608\n",
      "195000 2.42994855835 2.42994855835\n",
      "196000 -7.07513798691 -7.07513798691\n",
      "197000 -0.739463535872 -0.739463535872\n",
      "198000 -1.69118615736 -1.69118615736\n",
      "199000 -0.524340919281 -0.524340919281\n"
     ]
    }
   ],
   "source": [
    "res_init = np.array([[0]], dtype=float)\n",
    "u_mean_poly = np.zeros(x_0[split:].size - 1)\n",
    "u_res_poly = np.zeros(x_0[split:].size - 1)\n",
    "for i in range(x_0[split:].size - 1):\n",
    "    u_mean_poly[i], u_res_poly[i] = poly_add.predict(x_0[split + i:split + i +1].reshape((1,1)), res_init)\n",
    "    res_init[0, 0] = u_res_poly[i]\n",
    "    if i % 1000 == 0:\n",
    "        print(i, u_res_poly[i], res_init[0,0])"
   ]
  },
  {
   "cell_type": "code",
   "execution_count": 647,
   "metadata": {},
   "outputs": [
    {
     "name": "stderr",
     "output_type": "stream",
     "text": [
      "/Users/dgagne/anaconda3/lib/python3.5/site-packages/matplotlib/axes/_axes.py:6497: RuntimeWarning: invalid value encountered in greater\n",
      "  h[h > cmax] = None\n",
      "/Users/dgagne/anaconda3/lib/python3.5/site-packages/matplotlib/colors.py:929: RuntimeWarning: invalid value encountered in less_equal\n",
      "  mask |= resdat <= 0\n"
     ]
    },
    {
     "data": {
      "image/png": "[encoded data removed]",
      "text/plain": [
       "<matplotlib.figure.Figure at 0x19f7bf630>"
      ]
     },
     "metadata": {},
     "output_type": "display_data"
    }
   ],
   "source": [
    "_ = plt.hist2d(x_0[split:-1], u_res_poly, bins=[np.linspace(-30, 30, 30), \n",
    "                                   np.linspace(-30, 30, 30)], \n",
    "                   cmin=1, cmax=50000, norm=LogNorm(1, 50000))"
   ]
  },
  {
   "cell_type": "code",
   "execution_count": 38,
   "metadata": {
    "collapsed": true
   },
   "outputs": [],
   "source": [
    "ann_res = SubModelANNRes(hidden_layers=2, hidden_neurons=4, l2_weight=0.001, num_epochs=20, noise_sd=3, verbose=1)"
   ]
  },
  {
   "cell_type": "code",
   "execution_count": 39,
   "metadata": {},
   "outputs": [
    {
     "name": "stdout",
     "output_type": "stream",
     "text": [
      "Epoch 1/20\n",
      "100000/100000 [==============================] - 0s - loss: 48.1598     \n",
      "Epoch 2/20\n",
      "100000/100000 [==============================] - 0s - loss: 33.2508     \n",
      "Epoch 3/20\n",
      "100000/100000 [==============================] - 0s - loss: 17.9960     \n",
      "Epoch 4/20\n",
      "100000/100000 [==============================] - 0s - loss: 8.7644     \n",
      "Epoch 5/20\n",
      "100000/100000 [==============================] - 0s - loss: 5.7477     \n",
      "Epoch 6/20\n",
      "100000/100000 [==============================] - 0s - loss: 5.2776     \n",
      "Epoch 7/20\n",
      "100000/100000 [==============================] - 0s - loss: 5.2329     \n",
      "Epoch 8/20\n",
      "100000/100000 [==============================] - 0s - loss: 5.2227     \n",
      "Epoch 9/20\n",
      "100000/100000 [==============================] - 0s - loss: 5.2141     \n",
      "Epoch 10/20\n",
      "100000/100000 [==============================] - 0s - loss: 5.2059     \n",
      "Epoch 11/20\n",
      "100000/100000 [==============================] - 0s - loss: 5.1982     \n",
      "Epoch 12/20\n",
      "100000/100000 [==============================] - 0s - loss: 5.1911     \n",
      "Epoch 13/20\n",
      "100000/100000 [==============================] - 0s - loss: 5.1846     \n",
      "Epoch 14/20\n",
      "100000/100000 [==============================] - 0s - loss: 5.1786     \n",
      "Epoch 15/20\n",
      "100000/100000 [==============================] - 0s - loss: 5.1734     \n",
      "Epoch 16/20\n",
      "100000/100000 [==============================] - 0s - loss: 5.1686     \n",
      "Epoch 17/20\n",
      "100000/100000 [==============================] - 0s - loss: 5.1645     - ETA: 0s - loss: 5.143 - ETA: 0s - loss: 5.1\n",
      "Epoch 18/20\n",
      "100000/100000 [==============================] - 0s - loss: 5.1608     \n",
      "Epoch 19/20\n",
      "100000/100000 [==============================] - 0s - loss: 5.1577     \n",
      "Epoch 20/20\n",
      "100000/100000 [==============================] - 0s - loss: 5.1549     \n",
      "Epoch 1/20\n",
      "99999/99999 [==============================] - 0s - loss: 41.1492     \n",
      "Epoch 2/20\n",
      "99999/99999 [==============================] - 0s - loss: 27.7438     \n",
      "Epoch 3/20\n",
      "99999/99999 [==============================] - 0s - loss: 20.0047     \n",
      "Epoch 4/20\n",
      "99999/99999 [==============================] - 0s - loss: 15.4513     \n",
      "Epoch 5/20\n",
      "99999/99999 [==============================] - 0s - loss: 12.3892     \n",
      "Epoch 6/20\n",
      "99999/99999 [==============================] - 0s - loss: 10.2355     \n",
      "Epoch 7/20\n",
      "99999/99999 [==============================] - 0s - loss: 8.6821     \n",
      "Epoch 8/20\n",
      "99999/99999 [==============================] - 0s - loss: 7.4457     \n",
      "Epoch 9/20\n",
      "99999/99999 [==============================] - 0s - loss: 6.6274     \n",
      "Epoch 10/20\n",
      "99999/99999 [==============================] - 0s - loss: 5.9616     \n",
      "Epoch 11/20\n",
      "99999/99999 [==============================] - 0s - loss: 5.4279     \n",
      "Epoch 12/20\n",
      "99999/99999 [==============================] - 0s - loss: 5.0307     \n",
      "Epoch 13/20\n",
      "99999/99999 [==============================] - 0s - loss: 4.7167     \n",
      "Epoch 14/20\n",
      "99999/99999 [==============================] - 0s - loss: 4.4969     \n",
      "Epoch 15/20\n",
      "99999/99999 [==============================] - 0s - loss: 4.2848     \n",
      "Epoch 16/20\n",
      "99999/99999 [==============================] - 0s - loss: 4.1824     \n",
      "Epoch 17/20\n",
      "99999/99999 [==============================] - 0s - loss: 4.0759     \n",
      "Epoch 18/20\n",
      "99999/99999 [==============================] - 0s - loss: 3.9938     \n",
      "Epoch 19/20\n",
      "99999/99999 [==============================] - 0s - loss: 3.9448     \n",
      "Epoch 20/20\n",
      "99999/99999 [==============================] - 0s - loss: 3.8867     \n"
     ]
    }
   ],
   "source": [
    "ann_res.fit(x_0[:split].reshape(-1, 1), u_0[:split])"
   ]
  },
  {
   "cell_type": "code",
   "execution_count": 40,
   "metadata": {
    "scrolled": true
   },
   "outputs": [
    {
     "name": "stdout",
     "output_type": "stream",
     "text": [
      "0 -7.01611995697 -0.0140057206154\n",
      "1000 3.39555335045 1.09885883331\n",
      "2000 7.89811182022 0.869324684143\n",
      "3000 6.79987812042 0.904703855515\n",
      "4000 2.78841900826 0.378662288189\n",
      "5000 6.45381355286 0.195666790009\n",
      "6000 8.74396133423 -0.126169353724\n",
      "7000 7.67370176315 -0.0502350330353\n",
      "8000 4.92549180984 1.66333556175\n",
      "9000 8.02894020081 -2.12587976456\n",
      "10000 10.8649778366 0.0883913636208\n",
      "11000 5.74653911591 -1.31633400917\n",
      "12000 -2.47604370117 0.887017726898\n",
      "13000 7.71337890625 1.69285488129\n",
      "14000 4.77841711044 0.599713742733\n",
      "15000 5.64993429184 -0.384851098061\n",
      "16000 -5.84090280533 0.78992497921\n",
      "17000 -3.39082407951 0.355930328369\n",
      "18000 0.56045037508 -0.454356789589\n",
      "19000 6.0931725502 -0.0967429876328\n",
      "20000 4.12952947617 0.342739701271\n",
      "21000 6.14447021484 -0.493115901947\n",
      "22000 8.66479301453 0.616275548935\n",
      "23000 9.22922992706 -0.716852903366\n",
      "24000 2.65954327583 0.304649621248\n",
      "25000 10.9581890106 0.609984338284\n",
      "26000 10.2853736877 -0.409015893936\n",
      "27000 -4.53600025177 -0.318144619465\n",
      "28000 -1.24712121487 -0.0380506515503\n",
      "29000 -5.44040298462 0.108187690377\n",
      "30000 9.29693603516 -0.378842651844\n",
      "31000 1.16742908955 0.590299665928\n",
      "32000 11.1505641937 -1.23359370232\n",
      "33000 1.72561621666 0.380336225033\n",
      "34000 11.4350147247 1.87561392784\n",
      "35000 -6.63297939301 0.796658277512\n",
      "36000 -2.90742874146 -0.049447119236\n",
      "37000 6.11969280243 0.868462443352\n",
      "38000 2.5904686451 -0.313067674637\n",
      "39000 5.56007671356 0.64001083374\n",
      "40000 -4.93106365204 -0.838994979858\n",
      "41000 9.81009674072 -0.918469190598\n",
      "42000 8.76482963562 0.251481354237\n",
      "43000 11.1342306137 -0.0330356359482\n",
      "44000 5.54684352875 -0.0883632600307\n",
      "45000 8.65454101562 1.48969864845\n",
      "46000 -3.46022558212 0.215495303273\n",
      "47000 -2.94629979134 -1.74856209755\n",
      "48000 4.79960012436 -0.101909846067\n",
      "49000 0.486056566238 0.669087290764\n",
      "50000 1.43704581261 0.0295429825783\n",
      "51000 -5.86158800125 -0.287781715393\n",
      "52000 11.105802536 0.937920212746\n",
      "53000 2.83001065254 -0.32277071476\n",
      "54000 6.71258163452 0.239668369293\n",
      "55000 10.8908729553 0.0413978993893\n",
      "56000 3.18795371056 -0.0162973701954\n",
      "57000 8.68468093872 1.48074877262\n",
      "58000 9.54430007935 -0.388922572136\n",
      "59000 4.15840339661 0.828671395779\n",
      "60000 -0.536108970642 0.839183926582\n",
      "61000 -2.57891488075 -0.965582609177\n",
      "62000 2.17803430557 -1.7345700264\n",
      "63000 0.280344486237 -0.102863997221\n",
      "64000 8.25349617004 0.455362290144\n",
      "65000 2.77471446991 1.61144113541\n",
      "66000 -1.74768662453 0.324552446604\n",
      "67000 -5.12742185593 0.875173330307\n",
      "68000 6.37409305573 0.328925222158\n",
      "69000 8.1738615036 -0.599607527256\n",
      "70000 7.04604434967 -1.74298238754\n",
      "71000 -2.66368961334 -0.952980875969\n",
      "72000 0.59531211853 0.103239744902\n",
      "73000 -3.98887705803 1.11143684387\n",
      "74000 0.690026879311 -0.00775584578514\n",
      "75000 2.85413336754 0.525046288967\n",
      "76000 4.15649557114 0.137966319919\n",
      "77000 8.79366493225 -0.360158801079\n",
      "78000 -2.16945028305 0.126523256302\n",
      "79000 8.62051391602 0.256927162409\n",
      "80000 9.4416103363 -0.785885453224\n",
      "81000 2.91842222214 1.02580690384\n",
      "82000 6.62472629547 1.75982046127\n",
      "83000 4.33801364899 -0.188091337681\n",
      "84000 7.8824930191 -0.129871308804\n",
      "85000 5.53261804581 1.22582304478\n",
      "86000 6.89613485336 -0.0325776934624\n",
      "87000 -0.134838014841 0.386594057083\n",
      "88000 10.1648139954 -0.652725815773\n",
      "89000 -4.73988294601 -0.380664944649\n",
      "90000 3.26876807213 0.496402800083\n",
      "91000 2.73010659218 0.291434764862\n",
      "92000 9.66274642944 0.209717184305\n",
      "93000 0.0923185944557 -1.18867301941\n",
      "94000 5.00165462494 1.13026547432\n",
      "95000 -6.43730449677 0.956623792648\n",
      "96000 10.6175260544 0.970942020416\n",
      "97000 5.75923204422 -0.30090880394\n",
      "98000 3.70059418678 0.677459657192\n",
      "99000 -2.77336025238 1.81962633133\n",
      "100000 -4.97419929504 0.0082673728466\n",
      "101000 -3.90634226799 -0.241262435913\n",
      "102000 7.7042722702 0.637437701225\n",
      "103000 10.1354160309 0.391929924488\n",
      "104000 9.9774980545 0.165411248803\n",
      "105000 10.4632663727 0.941923260689\n",
      "106000 3.97666192055 -0.364982783794\n",
      "107000 -1.66878890991 -0.072481751442\n",
      "108000 7.23380231857 -1.45875287056\n",
      "109000 3.58365821838 0.689735412598\n",
      "110000 -5.6624879837 0.305921852589\n",
      "111000 3.91864228249 0.0343419909477\n",
      "112000 8.24193000793 0.414827644825\n",
      "113000 0.973955750465 1.06323218346\n",
      "114000 -6.89109802246 -1.50288891792\n",
      "115000 -3.9827978611 -1.37016558647\n",
      "116000 -5.53779554367 -0.234712719917\n",
      "117000 -5.14831066132 0.202838301659\n",
      "118000 0.703148245811 0.309975206852\n",
      "119000 12.2988758087 0.0423902869225\n",
      "120000 5.91046905518 0.221003979445\n",
      "121000 0.943192601204 -1.16769397259\n",
      "122000 -0.764729976654 1.24751472473\n",
      "123000 -0.738185405731 0.933694183826\n",
      "124000 -2.73375320435 0.44355353713\n",
      "125000 -1.55938315392 0.131201446056\n",
      "126000 -0.377348929644 0.394502818584\n",
      "127000 -1.30753159523 -0.0507364869118\n",
      "128000 8.03640842438 1.10425543785\n",
      "129000 -5.38562583923 0.536374390125\n",
      "130000 7.38188171387 1.52170586586\n",
      "131000 4.16138792038 -1.12520241737\n",
      "132000 7.31929016113 -0.516950547695\n",
      "133000 4.51036787033 1.36889052391\n",
      "134000 10.4753828049 1.23467862606\n",
      "135000 9.61222743988 -0.0082700252533\n",
      "136000 -3.19924068451 -0.259763002396\n",
      "137000 -6.37171792984 -0.798195004463\n",
      "138000 7.01651287079 0.12912401557\n",
      "139000 -5.79427146912 -0.577578902245\n",
      "140000 9.51922702789 0.52809637785\n",
      "141000 6.09348297119 0.0127934217453\n",
      "142000 -5.1168885231 -0.0967977046967\n",
      "143000 6.77817630768 -0.989894270897\n",
      "144000 6.19502830505 0.776381671429\n",
      "145000 5.34163665771 1.06997549534\n",
      "146000 12.1003398895 0.192741557956\n",
      "147000 8.94823646545 1.5669836998\n",
      "148000 -4.91407394409 0.453152894974\n",
      "149000 5.15491008759 0.707061052322\n",
      "150000 5.39334011078 0.299670279026\n",
      "151000 -5.51699924469 -0.758313775063\n",
      "152000 9.07089614868 -1.25572228432\n",
      "153000 4.88279151917 1.38712847233\n",
      "154000 10.2626419067 0.845634281635\n",
      "155000 9.7556438446 0.502602815628\n",
      "156000 6.55252504349 0.0782104730606\n",
      "157000 3.242000103 0.911609113216\n",
      "158000 -3.15831208229 0.522557497025\n",
      "159000 6.99788284302 1.25504732132\n",
      "160000 9.92227363586 0.53679049015\n",
      "161000 -2.52547478676 0.489354938269\n",
      "162000 8.66198444366 -1.60888433456\n",
      "163000 7.24626255035 1.06263530254\n",
      "164000 -5.03062915802 0.0965457260609\n",
      "165000 4.49151134491 -0.0578625202179\n",
      "166000 -7.03848695755 0.824398517609\n",
      "167000 11.4291353226 0.319093883038\n",
      "168000 -2.80544805527 1.4002931118\n",
      "169000 6.86150455475 0.637384533882\n",
      "170000 -3.1797375679 1.11438560486\n",
      "171000 10.2456092834 0.668115615845\n",
      "172000 6.53953361511 0.520677685738\n",
      "173000 7.78913211823 2.76104450226\n",
      "174000 5.48012447357 1.34003829956\n",
      "175000 -4.07053470612 0.918946802616\n",
      "176000 8.8696937561 0.453250080347\n",
      "177000 6.00548124313 0.69356161356\n",
      "178000 10.7222776413 0.693620681763\n",
      "179000 -4.32408428192 1.00979995728\n",
      "180000 3.01173853874 0.716396212578\n",
      "181000 9.0193939209 -0.288089036942\n",
      "182000 7.25945329666 0.429800182581\n",
      "183000 0.237450689077 0.914587676525\n",
      "184000 -4.45652103424 -0.194524824619\n",
      "185000 4.86831092834 0.286129295826\n",
      "186000 10.3404569626 0.313824176788\n",
      "187000 2.98804402351 0.550850868225\n",
      "188000 0.28081870079 0.207970261574\n",
      "189000 4.75127029419 2.39179420471\n",
      "190000 9.55556201935 0.274294823408\n",
      "191000 2.60907030106 0.922012269497\n",
      "192000 -4.82335567474 -0.346443533897\n",
      "193000 8.87804794312 -0.0763779878616\n",
      "194000 4.8365945816 1.71713745594\n",
      "195000 9.51720046997 -0.633063733578\n",
      "196000 -5.9323091507 -0.177222371101\n",
      "197000 -7.54759550095 2.08221793175\n",
      "198000 3.99649882317 0.612051904202\n",
      "199000 1.36561203003 1.73584532738\n"
     ]
    }
   ],
   "source": [
    "res_init = np.array([[0]], dtype=float)\n",
    "u_mean_ann = np.zeros(x_0[split:].size - 1)\n",
    "u_res_ann = np.zeros(x_0[split:].size - 1)\n",
    "for i in range(x_0[split:].size - 1):\n",
    "    u_mean_ann[i], u_res_ann[i] = ann_res.predict(x_0[split + i:split + i +1].reshape((1,1)), res_init)\n",
    "    res_init[0, 0] = u_res_ann[i]\n",
    "    if i % 1000 == 0:\n",
    "        print(i, u_mean_ann[i], u_res_ann[i])"
   ]
  },
  {
   "cell_type": "code",
   "execution_count": 42,
   "metadata": {},
   "outputs": [
    {
     "name": "stderr",
     "output_type": "stream",
     "text": [
      "/Users/dgagne/anaconda3/lib/python3.5/site-packages/matplotlib/axes/_axes.py:6497: RuntimeWarning: invalid value encountered in greater\n",
      "  h[h > cmax] = None\n"
     ]
    },
    {
     "data": {
      "text/plain": [
       "<matplotlib.text.Text at 0x133642e10>"
      ]
     },
     "execution_count": 42,
     "metadata": {},
     "output_type": "execute_result"
    },
    {
     "name": "stderr",
     "output_type": "stream",
     "text": [
      "/Users/dgagne/anaconda3/lib/python3.5/site-packages/matplotlib/colors.py:929: RuntimeWarning: invalid value encountered in less_equal\n",
      "  mask |= resdat <= 0\n"
     ]
    },
    {
     "data": {
      "image/png": "[encoded data removed]",
      "text/plain": [
       "<matplotlib.figure.Figure at 0x135862f28>"
      ]
     },
     "metadata": {},
     "output_type": "display_data"
    }
   ],
   "source": [
    "plt.figure(figsize=(15, 5))\n",
    "plt.subplot(1, 3, 1)\n",
    "_ = plt.hist2d(x_0[split:-1, 0], u_0[split:-1],bins=[np.linspace(-30, 30, 30), \n",
    "                                   np.linspace(-30, 30, 30)], \n",
    "                   cmin=1, cmax=50000, norm=LogNorm(1, 50000))\n",
    "plt.title(\"Truth\", fontsize=16)\n",
    "plt.xlabel(\"$X_t$\", fontsize=14)\n",
    "\n",
    "plt.ylabel(\"$U_{t+1}$\", fontsize=14)\n",
    "plt.subplot(1, 3, 2)\n",
    "_ = plt.hist2d(x_0[split:-1, 0], u_mean_ann + u_res_ann, bins=[np.linspace(-30, 30, 30), \n",
    "                                   np.linspace(-30, 30, 30)], \n",
    "                   cmin=1, cmax=50000, norm=LogNorm(1, 50000))\n",
    "plt.title(\"Neural Network\", fontsize=16)\n",
    "plt.xlabel(\"$X_t$\", fontsize=14)\n",
    "\n",
    "plt.subplot(1,3 ,3)\n",
    "_ = plt.hist2d(x_0[split:-1, 0], u_mean_poly + u_res_poly, bins=[np.linspace(-30, 30, 30), \n",
    "                                   np.linspace(-30, 30, 30)], \n",
    "                   cmin=1, cmax=50000, norm=LogNorm(1, 50000))\n",
    "plt.title(\"Polynomial\", fontsize=16)\n",
    "plt.xlabel(\"$X_t$\", fontsize=14)\n"
   ]
  },
  {
   "cell_type": "code",
   "execution_count": 37,
   "metadata": {},
   "outputs": [
    {
     "data": {
      "text/plain": [
       "<matplotlib.legend.Legend at 0x1326efa58>"
      ]
     },
     "execution_count": 37,
     "metadata": {},
     "output_type": "execute_result"
    },
    {
     "data": {
      "image/png": "[encoded data removed]",
      "text/plain": [
       "<matplotlib.figure.Figure at 0x12bb13eb8>"
      ]
     },
     "metadata": {},
     "output_type": "display_data"
    }
   ],
   "source": [
    "i_start = 600\n",
    "i_end = 900\n",
    "plt.plot(u_res_ann[i_start:i_end], label=\"Neural Net\")\n",
    "#plt.plot(u_mean_poly[i_start:i_end], label=\"Polynomial\")\n",
    "plt.plot(u_res_poly[i_start:i_end], label=\"Polynomial\")\n",
    "plt.plot(u_0[split:][i_start+1: i_end+1] - u_mean_ann[i_start:i_end], label=\"Truth\")\n",
    "plt.legend()"
   ]
  },
  {
   "cell_type": "code",
   "execution_count": 584,
   "metadata": {},
   "outputs": [
    {
     "data": {
      "text/plain": [
       "[<matplotlib.lines.Line2D at 0x18ee824e0>]"
      ]
     },
     "execution_count": 584,
     "metadata": {},
     "output_type": "execute_result"
    },
    {
     "data": {
      "image/png": "[encoded data removed]",
      "text/plain": [
       "<matplotlib.figure.Figure at 0x18d7913c8>"
      ]
     },
     "metadata": {},
     "output_type": "display_data"
    }
   ],
   "source": []
  },
  {
   "cell_type": "code",
   "execution_count": 598,
   "metadata": {
    "collapsed": true
   },
   "outputs": [],
   "source": [
    "l_20 = xr.open_dataset(\"../exp_20/lorenz_output.nc\")"
   ]
  },
  {
   "cell_type": "code",
   "execution_count": 599,
   "metadata": {
    "collapsed": true
   },
   "outputs": [],
   "source": [
    "l_20_u = l_20[\"lorenz_y\"][:, 0:32].sum(axis=1).values"
   ]
  },
  {
   "cell_type": "code",
   "execution_count": 608,
   "metadata": {},
   "outputs": [
    {
     "data": {
      "text/plain": [
       "[<matplotlib.lines.Line2D at 0x18c6d9cc0>]"
      ]
     },
     "execution_count": 608,
     "metadata": {},
     "output_type": "execute_result"
    },
    {
     "data": {
      "image/png": "[encoded data removed]",
      "text/plain": [
       "<matplotlib.figure.Figure at 0x18c6d9cf8>"
      ]
     },
     "metadata": {},
     "output_type": "display_data"
    }
   ],
   "source": [
    "plt.plot(l_20_u[:400])\n",
    "plt.plot(u_0[:400])"
   ]
  },
  {
   "cell_type": "code",
   "execution_count": 604,
   "metadata": {},
   "outputs": [
    {
     "data": {
      "text/plain": [
       "-9.6262556217496371"
      ]
     },
     "execution_count": 604,
     "metadata": {},
     "output_type": "execute_result"
    }
   ],
   "source": [
    "l_20_u.min()"
   ]
  },
  {
   "cell_type": "code",
   "execution_count": null,
   "metadata": {
    "collapsed": true
   },
   "outputs": [],
   "source": []
  }
 ],
 "metadata": {
  "anaconda-cloud": {},
  "kernelspec": {
   "display_name": "Python [default]",
   "language": "python",
   "name": "python3"
  },
  "language_info": {
   "codemirror_mode": {
    "name": "ipython",
    "version": 3
   },
   "file_extension": ".py",
   "mimetype": "text/x-python",
   "name": "python",
   "nbconvert_exporter": "python",
   "pygments_lexer": "ipython3",
   "version": "3.5.2"
  }
 },
 "nbformat": 4,
 "nbformat_minor": 2
}
